{
  "nbformat": 4,
  "nbformat_minor": 0,
  "metadata": {
    "colab": {
      "name": "movie recommender.ipynb",
      "provenance": [],
      "collapsed_sections": [],
      "toc_visible": true
    },
    "kernelspec": {
      "name": "python3",
      "display_name": "Python 3"
    }
  },
  "cells": [
    {
      "cell_type": "markdown",
      "metadata": {
        "id": "LoUBjayoH-nc",
        "colab_type": "text"
      },
      "source": [
        "# **Movie Recommender using K-Means Clustering**\n"
      ]
    },
    {
      "cell_type": "markdown",
      "metadata": {
        "id": "vs8v4FmWIVXR",
        "colab_type": "text"
      },
      "source": [
        "In this project I am going to introduce how to create a basic **Movie Recommendation** engine using the **K-Means Clustering** technique. The k-means algorithm searches for a pre-determined number of clusters within an unlabeled multidimensional dataset.  \n",
        "\n",
        "K-means was employed to cluster users according to their ratings of movies they have seen. Thus, each cluster will contain a group of users with similar taste in movies. The movie recommender will work by recommending a list Top 10 movies not seen by a selected user. The list of movies will be sorted by the average rating of a movie by users in the same cluster."
      ]
    },
    {
      "cell_type": "code",
      "metadata": {
        "id": "ztLkn8H4eZid",
        "colab_type": "code",
        "colab": {}
      },
      "source": [
        "#import modules\n",
        "\n",
        "import pandas as pd\n",
        "import matplotlib.pyplot as plt\n",
        "import numpy as np\n",
        "\n",
        "#column headers for the dataset\n",
        "data_cols = ['userid','movieid','rating','timestamp']\n",
        "item_cols = ['movieid','movietitle','release date',\n",
        "'video release date','IMDb URL','unknown','Action',\n",
        "'Adventure','Animation','Childrens','Comedy','Crime',\n",
        "'Documentary','Drama','Fantasy','Film-Noir','Horror',\n",
        "'Musical','Mystery','Romance ','Sci-Fi','Thriller',\n",
        "'War' ,'Western']\n",
        "\n",
        "#read files\n",
        "data = pd.read_csv('u.data', sep='\\t', names=data_cols, encoding='latin-1')\n",
        "movies = pd.read_csv('u.item', sep='|', names=item_cols, encoding='latin-1')\n",
        "movies = movies[['movieid','movietitle']]\n"
      ],
      "execution_count": 2,
      "outputs": []
    },
    {
      "cell_type": "markdown",
      "metadata": {
        "id": "xXdOpVorJe2j",
        "colab_type": "text"
      },
      "source": [
        "## **Data Preparation**\n",
        "\n",
        "The ratings dataset for each movies would be used to build the recommendation engine. Before it can be plugged into the Kmeans algorithm it has to go through a couple transformation step.\n",
        "\n",
        "#### 1.   **Reshaping the Data**\n",
        "> For Kmeans user based clustering we want the data to be in an user-movie array, where each row is a different user with ratings for different movies and each column is a specific movie. To reshape the dataframe, we'll use the pandas pivot function. \n",
        "\n",
        "#### 2.   **Dealing with missing values** \n",
        "\n",
        "> By reshaping the data to a matrix we end up with a lot of missing data because not every user has seen every movie and we can't get rid of rows containin nulls because we would end up with no data. So the nulls will be replaced with 0s\n",
        "\n",
        "\n",
        "\n",
        "\n",
        "\n",
        "\n",
        "\n",
        "\n"
      ]
    },
    {
      "cell_type": "code",
      "metadata": {
        "id": "iGAj41lGpR5w",
        "colab_type": "code",
        "colab": {}
      },
      "source": [
        "#pivot data movies in rows, user in columns\n",
        "df_matrix = data.pivot(\n",
        "    index='userid',\n",
        "    columns='movieid',\n",
        "    values='rating'\n",
        ").fillna(0)\n",
        "df_matrix.head()\n",
        "\n",
        "#convert the df into a numpy array for efficient processing\n",
        "cluster_data = df_matrix.values\n",
        "\n"
      ],
      "execution_count": 3,
      "outputs": []
    },
    {
      "cell_type": "markdown",
      "metadata": {
        "id": "l7V9D6Hj2SNs",
        "colab_type": "text"
      },
      "source": [
        "## **How many Clusters?**\n",
        "\n",
        "With clustering there is no need to train and test the model however a key consideration is how many clusters should there be on your model. When fitting models, it is possible to increase the model performance by adding parameters, in this case adding more clusters, but doing do so may result in overfitting.\n",
        "\n",
        "A means of correcting for over-fitting and deciding on how many clusters is by using the k-means inertia graph. Inertia measures how far samples are from the center of the cluster (centriod). The lower the inertia the better the cluster.\n",
        "\n",
        "The general rule is to select a clusters around the elbow of the inertia plot which, is the point where the inertia begins to decrease more slowly. "
      ]
    },
    {
      "cell_type": "code",
      "metadata": {
        "id": "90uOz3oJxenS",
        "colab_type": "code",
        "colab": {
          "base_uri": "https://localhost:8080/",
          "height": 290
        },
        "outputId": "389a702c-dd6f-4635-ba3f-79a4971908ee"
      },
      "source": [
        "#finding optimal K\n",
        "\n",
        "#Step 1 - import KMeans\n",
        "from sklearn.cluster import KMeans\n",
        "\n",
        "\n",
        "#Step 2 - initiate the number of times we want to run the Kmeans cluster (12)\n",
        "ks = range(1, 13)\n",
        "inertias = []\n",
        "\n",
        "#Step 3 - Run the K-means cluster for 1 to 12 clusters and append the inertia to list\n",
        "for k in ks:\n",
        "    # Create a KMeans instance with k clusters: model\n",
        "    model = KMeans(n_clusters=k)\n",
        "    # Fit model to samples\n",
        "    model.fit(cluster_data)\n",
        "    # Append the inertia to the list of inertias\n",
        "    inertias.append(model.inertia_)\n",
        "    \n",
        "#Step 4 - Plot ks vs inertias\n",
        "plt.plot(ks, inertias, '-o')\n",
        "plt.xlabel('number of clusters, k')\n",
        "plt.ylabel('inertia')\n",
        "plt.xticks(ks)\n",
        "plt.show()"
      ],
      "execution_count": 4,
      "outputs": [
        {
          "output_type": "display_data",
          "data": {
            "image/png": "[encoded data removed]",
            "text/plain": [
              "<Figure size 432x288 with 1 Axes>"
            ]
          },
          "metadata": {
            "tags": [],
            "needs_background": "light"
          }
        }
      ]
    },
    {
      "cell_type": "markdown",
      "metadata": {
        "id": "wSOj-JBPReth",
        "colab_type": "text"
      },
      "source": [
        "## **Build the Model**  \n",
        "\n",
        "With the optimal K selected lets build our model"
      ]
    },
    {
      "cell_type": "code",
      "metadata": {
        "id": "JlI9EImbbdzt",
        "colab_type": "code",
        "colab": {
          "base_uri": "https://localhost:8080/",
          "height": 265
        },
        "outputId": "b97a0672-e1e1-4317-83e6-42b9fa999597"
      },
      "source": [
        "model = KMeans(n_clusters = 6)\n",
        "model.fit(cluster_data)\n",
        "labels = model.predict(cluster_data)\n",
        "centriods = model.cluster_centers_\n",
        "xs = cluster_data[:,168]\n",
        "ys = range(0,len(cluster_data))\n",
        "plt.scatter(xs, ys, c=labels, s=40, cmap='viridis', zorder=3)\n",
        "plt.show()"
      ],
      "execution_count": 5,
      "outputs": [
        {
          "output_type": "display_data",
          "data": {
            "image/png": "[encoded data removed]",
            "text/plain": [
              "<Figure size 432x288 with 1 Axes>"
            ]
          },
          "metadata": {
            "tags": [],
            "needs_background": "light"
          }
        }
      ]
    },
    {
      "cell_type": "markdown",
      "metadata": {
        "id": "KtZb2JSI5hd0",
        "colab_type": "text"
      },
      "source": [
        "A spread of the cluster for the movie 'The English Patient'"
      ]
    },
    {
      "cell_type": "markdown",
      "metadata": {
        "id": "FoAlAQvWS2pI",
        "colab_type": "text"
      },
      "source": [
        "## **Build the Recommendation Engine**  \n",
        "\n",
        "#### 1.   **Extract user cluster labels**"
      ]
    },
    {
      "cell_type": "code",
      "metadata": {
        "id": "zl9DbtRca4si",
        "colab_type": "code",
        "colab": {
          "base_uri": "https://localhost:8080/",
          "height": 240
        },
        "outputId": "12ea5df7-da83-4186-d167-97ff83368258"
      },
      "source": [
        "#put labels and users in a dataframe\n",
        "df = pd.DataFrame(cluster_data)\n",
        "df['cluster label'] = labels\n",
        "print(df['cluster label'].value_counts())\n",
        "\n",
        "df1 = df[['cluster label']]\n",
        "df1['userid'] = df1.index + 1"
      ],
      "execution_count": 6,
      "outputs": [
        {
          "output_type": "stream",
          "text": [
            "2    300\n",
            "3    200\n",
            "4    179\n",
            "5    142\n",
            "1     65\n",
            "0     57\n",
            "Name: cluster label, dtype: int64\n"
          ],
          "name": "stdout"
        },
        {
          "output_type": "stream",
          "text": [
            "/usr/local/lib/python3.6/dist-packages/ipykernel_launcher.py:7: SettingWithCopyWarning: \n",
            "A value is trying to be set on a copy of a slice from a DataFrame.\n",
            "Try using .loc[row_indexer,col_indexer] = value instead\n",
            "\n",
            "See the caveats in the documentation: https://pandas.pydata.org/pandas-docs/stable/user_guide/indexing.html#returning-a-view-versus-a-copy\n",
            "  import sys\n"
          ],
          "name": "stderr"
        }
      ]
    },
    {
      "cell_type": "markdown",
      "metadata": {
        "id": "MrWazySKUE7C",
        "colab_type": "text"
      },
      "source": [
        "#### 2.   **Merge Cluster labels to the ratings and movie dataset**"
      ]
    },
    {
      "cell_type": "code",
      "metadata": {
        "id": "uurdIKOBtVnc",
        "colab_type": "code",
        "colab": {}
      },
      "source": [
        "#merge cluster labels and movies into the data frame\n",
        "df3 = pd.merge(pd.merge(data,df1),movies)\n",
        "df3.drop(['timestamp','movieid'], axis=1, inplace=True)\n"
      ],
      "execution_count": 8,
      "outputs": []
    },
    {
      "cell_type": "markdown",
      "metadata": {
        "id": "Wv9zySy6Uatb",
        "colab_type": "text"
      },
      "source": [
        "#### 3.   **Create a dataframe to store average movie rating for each Cluster**"
      ]
    },
    {
      "cell_type": "code",
      "metadata": {
        "id": "UWPsZkKk5mQt",
        "colab_type": "code",
        "colab": {
          "base_uri": "https://localhost:8080/",
          "height": 231
        },
        "outputId": "1f465371-0c93-45ce-8922-93b8ced9b3e5"
      },
      "source": [
        "cluster_grouped = df3.groupby(['cluster label','movietitle'])['rating'].agg(['mean','count']).reset_index()\n",
        "cluster_grouped[cluster_grouped['movietitle'] == 'Young Frankenstein (1974)']"
      ],
      "execution_count": 9,
      "outputs": [
        {
          "output_type": "execute_result",
          "data": {
            "text/html": [
              "<div>\n",
              "<style scoped>\n",
              "    .dataframe tbody tr th:only-of-type {\n",
              "        vertical-align: middle;\n",
              "    }\n",
              "\n",
              "    .dataframe tbody tr th {\n",
              "        vertical-align: top;\n",
              "    }\n",
              "\n",
              "    .dataframe thead th {\n",
              "        text-align: right;\n",
              "    }\n",
              "</style>\n",
              "<table border=\"1\" class=\"dataframe\">\n",
              "  <thead>\n",
              "    <tr style=\"text-align: right;\">\n",
              "      <th></th>\n",
              "      <th>cluster label</th>\n",
              "      <th>movietitle</th>\n",
              "      <th>mean</th>\n",
              "      <th>count</th>\n",
              "    </tr>\n",
              "  </thead>\n",
              "  <tbody>\n",
              "    <tr>\n",
              "      <th>1287</th>\n",
              "      <td>0</td>\n",
              "      <td>Young Frankenstein (1974)</td>\n",
              "      <td>4.113636</td>\n",
              "      <td>44</td>\n",
              "    </tr>\n",
              "    <tr>\n",
              "      <th>2732</th>\n",
              "      <td>1</td>\n",
              "      <td>Young Frankenstein (1974)</td>\n",
              "      <td>4.179487</td>\n",
              "      <td>39</td>\n",
              "    </tr>\n",
              "    <tr>\n",
              "      <th>3840</th>\n",
              "      <td>2</td>\n",
              "      <td>Young Frankenstein (1974)</td>\n",
              "      <td>3.750000</td>\n",
              "      <td>4</td>\n",
              "    </tr>\n",
              "    <tr>\n",
              "      <th>4931</th>\n",
              "      <td>3</td>\n",
              "      <td>Young Frankenstein (1974)</td>\n",
              "      <td>2.750000</td>\n",
              "      <td>8</td>\n",
              "    </tr>\n",
              "    <tr>\n",
              "      <th>6081</th>\n",
              "      <td>4</td>\n",
              "      <td>Young Frankenstein (1974)</td>\n",
              "      <td>3.883721</td>\n",
              "      <td>43</td>\n",
              "    </tr>\n",
              "    <tr>\n",
              "      <th>7374</th>\n",
              "      <td>5</td>\n",
              "      <td>Young Frankenstein (1974)</td>\n",
              "      <td>3.887097</td>\n",
              "      <td>62</td>\n",
              "    </tr>\n",
              "  </tbody>\n",
              "</table>\n",
              "</div>"
            ],
            "text/plain": [
              "      cluster label                 movietitle      mean  count\n",
              "1287              0  Young Frankenstein (1974)  4.113636     44\n",
              "2732              1  Young Frankenstein (1974)  4.179487     39\n",
              "3840              2  Young Frankenstein (1974)  3.750000      4\n",
              "4931              3  Young Frankenstein (1974)  2.750000      8\n",
              "6081              4  Young Frankenstein (1974)  3.883721     43\n",
              "7374              5  Young Frankenstein (1974)  3.887097     62"
            ]
          },
          "metadata": {
            "tags": []
          },
          "execution_count": 9
        }
      ]
    },
    {
      "cell_type": "markdown",
      "metadata": {
        "id": "_OW5NrGXWg7_",
        "colab_type": "text"
      },
      "source": [
        "#### 4.   **Initiate the recommendation function**\n"
      ]
    },
    {
      "cell_type": "code",
      "metadata": {
        "id": "iNYYEiGFp9Oo",
        "colab_type": "code",
        "colab": {}
      },
      "source": [
        "def recommender(id):\n",
        "\n",
        "  #distinct list of movies\n",
        "  movieList = list(df3['movietitle'].unique())\n",
        "  #extract movies seen and notSeen by user\n",
        "  user_d = df3[df3['userid'] == id]\n",
        "  seen = list(user_d['movietitle'].unique())\n",
        "  notSeen = list(set(movieList)-set(seen))\n",
        "  #obtain user cluster\n",
        "  uCluster = user_d['cluster label'].iloc[0]\n",
        "  \n",
        "  #filter cluster grouped by uCluster and not seen\n",
        "  recos = cluster_grouped[~(cluster_grouped['movietitle'].isin(notSeen)) & (cluster_grouped['cluster label']==uCluster)]\n",
        "  recos = recos[['movietitle','mean','count']].sort_values('mean', ascending=False).iloc[:10].reset_index()\n",
        "  return recos\n",
        "\n",
        "\n"
      ],
      "execution_count": 22,
      "outputs": []
    },
    {
      "cell_type": "markdown",
      "metadata": {
        "id": "QLZQe-BtYw8B",
        "colab_type": "text"
      },
      "source": [
        "#### 4.   **Retrieve Recommendations**  \n",
        "\n",
        "*Pass in the user id to the recommender function to retrieve top ten recommendations*"
      ]
    },
    {
      "cell_type": "code",
      "metadata": {
        "id": "9Pja39LKYvg7",
        "colab_type": "code",
        "colab": {
          "base_uri": "https://localhost:8080/",
          "height": 223
        },
        "outputId": "24df98ea-2e7c-45b2-e0cb-d8eeb316665f"
      },
      "source": [
        "rec = recommender(621)\n",
        "print(\"Your Top 10 Recommendations are:\")\n",
        "print(\"_\"*110)\n",
        "for i, r in rec.iterrows():\n",
        "  print(\"{0}. {1} - watched by {2} similar users with an average rating of {3:.1f}\".format(i+1, r['movietitle'], r['count'], r['mean']))\n"
      ],
      "execution_count": 24,
      "outputs": [
        {
          "output_type": "stream",
          "text": [
            "Your Top 10 Recommendations are:\n",
            "______________________________________________________________________________________________________________\n",
            "1. Star Wars (1977) - watched by 131 similar users with an average rating of 4.4\n",
            "2. Raiders of the Lost Ark (1981) - watched by 130 similar users with an average rating of 4.4\n",
            "3. Princess Bride, The (1987) - watched by 103 similar users with an average rating of 4.3\n",
            "4. Empire Strikes Back, The (1980) - watched by 124 similar users with an average rating of 4.2\n",
            "5. Titanic (1997) - watched by 50 similar users with an average rating of 4.2\n",
            "6. Chasing Amy (1997) - watched by 42 similar users with an average rating of 4.1\n",
            "7. Searching for Bobby Fischer (1993) - watched by 39 similar users with an average rating of 4.1\n",
            "8. Apollo 13 (1995) - watched by 91 similar users with an average rating of 4.1\n",
            "9. Return of the Jedi (1983) - watched by 127 similar users with an average rating of 4.1\n",
            "10. Fugitive, The (1993) - watched by 108 similar users with an average rating of 4.1\n"
          ],
          "name": "stdout"
        }
      ]
    }
  ]
}